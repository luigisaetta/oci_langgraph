{
 "cells": [
  {
   "cell_type": "markdown",
   "id": "70613db9-d881-415e-9601-2b5d8810eb99",
   "metadata": {},
   "source": [
    "### Example01\n",
    "\n",
    "This example shows how to:\n",
    "* build an agent using **AgentBase** class\n",
    "* how to use **checkpointing**"
   ]
  },
  {
   "cell_type": "code",
   "execution_count": null,
   "id": "e7b7c101-c891-4bbe-991c-47d1b0a3eab5",
   "metadata": {},
   "outputs": [],
   "source": []
  }
 ],
 "metadata": {
  "kernelspec": {
   "display_name": "Python 3 (ipykernel)",
   "language": "python",
   "name": "python3"
  },
  "language_info": {
   "codemirror_mode": {
    "name": "ipython",
    "version": 3
   },
   "file_extension": ".py",
   "mimetype": "text/x-python",
   "name": "python",
   "nbconvert_exporter": "python",
   "pygments_lexer": "ipython3",
   "version": "3.11.0"
  }
 },
 "nbformat": 4,
 "nbformat_minor": 5
}
