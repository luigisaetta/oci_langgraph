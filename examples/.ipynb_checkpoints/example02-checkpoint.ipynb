{
 "cells": [
  {
   "cell_type": "markdown",
   "id": "fe793417-f2c0-4d02-9c92-60ea378e1ab1",
   "metadata": {},
   "source": [
    "### Example 02\n",
    "\n",
    "Shows how to use **QueuePublisher** and **QueueListener**"
   ]
  },
  {
   "cell_type": "code",
   "execution_count": 1,
   "id": "1529c408-558f-4118-a325-dbc02deacd1e",
   "metadata": {},
   "outputs": [],
   "source": [
    "from oci_langgraph import QueuePublisher, QueueListener"
   ]
  },
  {
   "cell_type": "code",
   "execution_count": 2,
   "id": "ca0fc112-d981-4934-8345-1b7ca92ecd4c",
   "metadata": {},
   "outputs": [
    {
     "name": "stdout",
     "output_type": "stream",
     "text": [
      "env: DEBUG=True\n"
     ]
    }
   ],
   "source": [
    "%env DEBUG=True\n",
    "\n",
    "ENDPOINT = \"https://cell-1.queue.messaging.eu-frankfurt-1.oci.oraclecloud.com\"\n",
    "QUEUE_OCID = \"your ocid\""
   ]
  },
  {
   "cell_type": "code",
   "execution_count": 3,
   "id": "909e8ab5-3354-462c-994f-997a92074f8c",
   "metadata": {},
   "outputs": [
    {
     "name": "stderr",
     "output_type": "stream",
     "text": [
      "2025-05-04 17:37:14,141 - QueuePublisher initialized for queue OCID: ocid1.queue.oc1.eu-frankfurt-1.amaaaaaa2xxap7ya6ayg76r4fkdv4rw73rvv7jtjcjya6gtpraegukmcevbq\n"
     ]
    }
   ],
   "source": [
    "publisher = QueuePublisher(QUEUE_OCID, ENDPOINT)"
   ]
  },
  {
   "cell_type": "code",
   "execution_count": 4,
   "id": "62acd25f-c9cb-48e5-84d8-ef8bd7c3632d",
   "metadata": {},
   "outputs": [
    {
     "name": "stderr",
     "output_type": "stream",
     "text": [
      "2025-05-04 17:37:16,846 - Sending message to queue: ocid1.queue.oc1.eu-frankfurt-1.amaaaaaa2xxap7ya6ayg76r4fkdv4rw73rvv7jtjcjya6gtpraegukmcevbq...\n"
     ]
    }
   ],
   "source": [
    "# the msg must be a python dict, JSON serializable\n",
    "msg_dict = {\"request_id\": \"1242\", \"value\": \"Hello world\"}\n",
    "\n",
    "response = publisher.enqueue_message(msg_dict)"
   ]
  },
  {
   "cell_type": "markdown",
   "id": "8b78c9aa-d6a0-48ed-89dd-338ae62eb1d7",
   "metadata": {},
   "source": [
    "#### testing the listener"
   ]
  },
  {
   "cell_type": "code",
   "execution_count": 5,
   "id": "d021dc9a-bc5a-4b06-b9bb-17f4837c6bd0",
   "metadata": {},
   "outputs": [
    {
     "name": "stderr",
     "output_type": "stream",
     "text": [
      "2025-05-04 17:37:23,913 - Queue client, using API_KEY...\n"
     ]
    }
   ],
   "source": [
    "#\n",
    "# You need to subclass, defining process_message\n",
    "#\n",
    "class MyListener(QueueListener):\n",
    "    def process_message(self, payload: dict):\n",
    "        print(payload)\n",
    "        # \"CONTINUE if you don't want to stop the listen loop\n",
    "        return \"CONTINUE\"\n",
    "\n",
    "listener = MyListener(QUEUE_OCID, ENDPOINT, max_wait_time=10)"
   ]
  },
  {
   "cell_type": "code",
   "execution_count": 6,
   "id": "66c1aae5-f61e-450b-9111-10c918c6d261",
   "metadata": {},
   "outputs": [
    {
     "name": "stderr",
     "output_type": "stream",
     "text": [
      "2025-05-04 17:37:27,489 - Started queue listener, max_wait_time 10 (sec.)...\n"
     ]
    },
    {
     "name": "stdout",
     "output_type": "stream",
     "text": [
      "{'request_id': '1242', 'value': 'Hello world'}\n"
     ]
    },
    {
     "name": "stderr",
     "output_type": "stream",
     "text": [
      "2025-05-04 17:37:37,832 - Listener has completed the wait loop.\n",
      "2025-05-04 17:37:37,833 - Total messages received: 1\n"
     ]
    },
    {
     "data": {
      "text/plain": [
       "[{'request_id': '1242', 'value': 'Hello world'}]"
      ]
     },
     "execution_count": 6,
     "metadata": {},
     "output_type": "execute_result"
    }
   ],
   "source": [
    "listener.listen()"
   ]
  },
  {
   "cell_type": "code",
   "execution_count": null,
   "id": "1ecc703a-12b9-48b6-b9c0-e1f03a2add8f",
   "metadata": {},
   "outputs": [],
   "source": []
  }
 ],
 "metadata": {
  "kernelspec": {
   "display_name": "Python 3 (ipykernel)",
   "language": "python",
   "name": "python3"
  },
  "language_info": {
   "codemirror_mode": {
    "name": "ipython",
    "version": 3
   },
   "file_extension": ".py",
   "mimetype": "text/x-python",
   "name": "python",
   "nbconvert_exporter": "python",
   "pygments_lexer": "ipython3",
   "version": "3.11.0"
  }
 },
 "nbformat": 4,
 "nbformat_minor": 5
}
