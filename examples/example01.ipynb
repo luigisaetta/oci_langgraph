{
 "cells": [
  {
   "cell_type": "markdown",
   "id": "301b916f-7bde-4f69-9985-a25521a00bcb",
   "metadata": {},
   "source": [
    "### Example 01\n",
    "\n",
    "Shows how to create a simple agent with:\n",
    "* checkpointing\n",
    "* integration with OCI APM tracing\n",
    "* usage of AgentBase class"
   ]
  },
  {
   "cell_type": "code",
   "execution_count": 1,
   "id": "b2a88aaa-7a45-44fe-a802-8d86a920f4a4",
   "metadata": {},
   "outputs": [],
   "source": [
    "from typing_extensions import TypedDict\n",
    "from langgraph.graph import StateGraph, START, END\n",
    "\n",
    "# for OCI APM integration\n",
    "# we need this only to start the trace, no explicit code in Step1 and Step2\n",
    "from py_zipkin.zipkin import zipkin_span\n",
    "from py_zipkin import Encoding\n",
    "\n",
    "# opur classes\n",
    "from oci_langgraph import AgentBase, APMTransport, OracleCheckpointSaver\n",
    "\n",
    "# configurations from config files\n",
    "from config import ENABLE_TRACING, APM_BASE_URL\n",
    "\n",
    "# from here we get connection params (user, pwd...) \n",
    "from config_private import CONNECT_ARGS, APM_PUBLIC_KEY"
   ]
  },
  {
   "cell_type": "code",
   "execution_count": 2,
   "id": "e3b93c80-43ae-48cc-9f76-0088427796d0",
   "metadata": {},
   "outputs": [],
   "source": [
    "# the DB table where we store checkpoints\n",
    "TABLE_NAME = \"EXAMPLE01_CHECKPOINTS\"\n",
    "\n",
    "AGENT_NAME = \"Example01\""
   ]
  },
  {
   "cell_type": "code",
   "execution_count": 3,
   "id": "213bd5ca-dbed-42e5-a1e0-7c8120b3fb3e",
   "metadata": {},
   "outputs": [],
   "source": [
    "# configure the checkpointing\n",
    "# the first time it creates the DB table\n",
    "checkpointer = OracleCheckpointSaver(connect_args=CONNECT_ARGS, table_name=TABLE_NAME)\n",
    "\n",
    "# configure the transport for APM integration\n",
    "transporter = APMTransport(base_url=APM_BASE_URL,\n",
    "                          public_key=APM_PUBLIC_KEY,\n",
    "                          enable_tracing=ENABLE_TRACING)"
   ]
  },
  {
   "cell_type": "markdown",
   "id": "b05954bb-00ea-4422-a385-32387fde4a12",
   "metadata": {},
   "source": [
    "#### Create a workflow with two steps"
   ]
  },
  {
   "cell_type": "code",
   "execution_count": 4,
   "id": "3689ab5b-067c-47ed-990a-ac69040b21ba",
   "metadata": {},
   "outputs": [],
   "source": [
    "#\n",
    "# They only do print\n",
    "#\n",
    "\n",
    "# AgentBase implements runnable and has the invoke() method.\n",
    "# we need to define the handle_invoke()\n",
    "\n",
    "class Step1(AgentBase):\n",
    "    \"\"\" first step \"\"\"\n",
    "    def handle_invoke(self, input, config=None, **kwargs):\n",
    "        print(\"Executed step1...\")\n",
    "\n",
    "\n",
    "class Step2(AgentBase):\n",
    "    \"\"\" second step \"\"\"\n",
    "    def handle_invoke(self, input, config=None, **kwargs):\n",
    "        print(\"Executed step1...\")\n",
    "\n",
    "step1 = Step1(AGENT_NAME, \"step1\")\n",
    "step2 = Step2(AGENT_NAME, \"step2\")"
   ]
  },
  {
   "cell_type": "markdown",
   "id": "59516523-87a6-4b20-866c-1afe72e99253",
   "metadata": {},
   "source": [
    "#### Build the graph"
   ]
  },
  {
   "cell_type": "code",
   "execution_count": 5,
   "id": "4a6a0bb2-186a-4139-bcf7-929c638a7c1e",
   "metadata": {},
   "outputs": [],
   "source": [
    "class State(TypedDict):\n",
    "    \"\"\"\n",
    "    The state of the agent\n",
    "    \"\"\"\n",
    "\n",
    "    # inputs\n",
    "\n",
    "    # the id of the request\n",
    "    request_id: str"
   ]
  },
  {
   "cell_type": "code",
   "execution_count": 6,
   "id": "9b0da4bc-c5c0-441e-b07b-47d8904db112",
   "metadata": {},
   "outputs": [],
   "source": [
    "workflow = StateGraph(State)\n",
    "\n",
    "# add nodes\n",
    "workflow.add_node(\"Step1\", step1)\n",
    "workflow.add_node(\"Step2\", step2)\n",
    "\n",
    "# add edges\n",
    "workflow.add_edge(START, \"Step1\")\n",
    "workflow.add_edge(\"Step1\", \"Step2\")\n",
    "workflow.add_edge(\"Step2\", END)\n",
    "\n",
    "workflow_app = workflow.compile(checkpointer=checkpointer)"
   ]
  },
  {
   "cell_type": "markdown",
   "id": "837b9d04-b873-4103-9cba-d4231710b4ed",
   "metadata": {},
   "source": [
    "#### Execute"
   ]
  },
  {
   "cell_type": "code",
   "execution_count": 7,
   "id": "478f842a-f8a2-40c9-bbd3-37eaad70b607",
   "metadata": {},
   "outputs": [],
   "source": [
    "# set the input \n",
    "# it is fundamental for checkpointing pass a unique thread_id\n",
    "request_id = \"0005\"\n",
    "\n",
    "input_state: State = {\n",
    "        \"request_id\": request_id\n",
    "}\n",
    "\n",
    "agent_config = {\"configurable\": {\"thread_id\": request_id}}"
   ]
  },
  {
   "cell_type": "code",
   "execution_count": 8,
   "id": "340462bc-5cf2-489d-b53a-edb5b7e64f84",
   "metadata": {},
   "outputs": [
    {
     "name": "stdout",
     "output_type": "stream",
     "text": [
      "Executed step1...\n",
      "Executed step1...\n"
     ]
    }
   ],
   "source": [
    "with zipkin_span(\n",
    "            service_name=AGENT_NAME,\n",
    "            span_name=\"run_agent\",\n",
    "            transport_handler=transporter.http_transport,\n",
    "            encoding=Encoding.V2_JSON,\n",
    "            sample_rate=100,\n",
    "        ):\n",
    "            result = workflow_app.invoke(input_state, config=agent_config)"
   ]
  },
  {
   "cell_type": "markdown",
   "id": "1333bd2c-442d-40ca-b9e4-18b9c668dc0e",
   "metadata": {},
   "source": [
    "#### After the execution we can see:\n",
    "* 4 records have been registered in the checkpoint TABLE with thread_id = request_id\n",
    "* the trace with two span (step1 and step2) is visible in OCI APM Trace Explorer"
   ]
  },
  {
   "cell_type": "code",
   "execution_count": null,
   "id": "f63fcf36-31fd-4502-a90d-0190e49da563",
   "metadata": {},
   "outputs": [],
   "source": []
  }
 ],
 "metadata": {
  "kernelspec": {
   "display_name": "Python 3 (ipykernel)",
   "language": "python",
   "name": "python3"
  },
  "language_info": {
   "codemirror_mode": {
    "name": "ipython",
    "version": 3
   },
   "file_extension": ".py",
   "mimetype": "text/x-python",
   "name": "python",
   "nbconvert_exporter": "python",
   "pygments_lexer": "ipython3",
   "version": "3.11.0"
  }
 },
 "nbformat": 4,
 "nbformat_minor": 5
}
